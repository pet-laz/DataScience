{
  "nbformat": 4,
  "nbformat_minor": 0,
  "metadata": {
    "colab": {
      "provenance": []
    },
    "kernelspec": {
      "name": "python3",
      "display_name": "Python 3"
    },
    "language_info": {
      "name": "python"
    }
  },
  "cells": [
    {
      "cell_type": "code",
      "source": [
        "import numpy as np\n",
        "import tensorflow as tf\n",
        "from tensorflow import keras\n",
        "from sklearn.preprocessing import LabelEncoder\n",
        "from sklearn.model_selection import train_test_split\n",
        "from tensorflow.keras.preprocessing.sequence import pad_sequences\n",
        "from sklearn.neural_network import MLPClassifier\n",
        "from sklearn.metrics import accuracy_score\n"
      ],
      "metadata": {
        "id": "Ryy6QPAv_pDx"
      },
      "execution_count": 23,
      "outputs": []
    },
    {
      "cell_type": "code",
      "source": [
        "# Пример данных\n",
        "diagnoses = np.array(['Грипп', 'Простуда', 'Пневмония', 'Тонзиллит',\n",
        "                      'Аллергия', 'Гастрит', 'Ротавирус', 'Ковид-19',\n",
        "                      'Синусит', 'Бронхит', 'Скарлатина', 'Менингит',\n",
        "                      'Миозит', 'Астма', 'Ринит', 'Гастроэнтерит', 'ОРВИ',\n",
        "                      'Краснуха', 'Энцефалит', 'Анорексия', 'Герпес', 'Аритмия',\n",
        "                      'Гайморит', 'Панкреатит', 'Эпилепсия', 'Гипертония', 'Стенокардия',\n",
        "                      'Анемия', 'Мигрень', 'Ветряная оспа', 'Инфаркт', 'Гипогликемия', 'Псориаз',\n",
        "                      'Язва желудка', 'Холецистит', 'Плеврит', 'Дискинезия', 'Демодекоз', 'Сепсис',\n",
        "                      'Гипотиреоз', 'Отит', 'Депрессия', 'Тромбоз', 'Гастроэзофагеальная рефлюксная болезнь',\n",
        "                        'Пиелонефрит', 'Гепатит', 'Конъюнктивит', 'Ларингит'])\n",
        "symptoms = np.array([['Кашель', 'Лихорадка', 'Головная боль'],\n",
        "                     ['Насморк', 'Кашель', 'Боль в горле'],\n",
        "                     ['Лихорадка', 'Кашель', 'Одышка'],\n",
        "                     ['Боль в горле', 'Озноб', 'Слабость'],\n",
        "                     ['Насморк', 'Головная боль', 'Чихание'],\n",
        "                     ['Тошнота', 'Рвота', 'Усталость'],\n",
        "                     ['Диарея', 'Боль в мышцах', 'Потливость'],\n",
        "                     ['Одышка', 'Слабость', 'Потеря вкуса'],\n",
        "                       ['Заложенность носа', 'Потеря обоняния', 'Чихание'],\n",
        "                         ['Кашель', 'Слабость', 'Потеря аппетита'],\n",
        "                         ['Сыпь', 'Потливость', 'Озноб'], ['Лихорадка', 'Тошнота', 'Слабость'],\n",
        "                           ['Головная боль', 'Слабость', 'Боль в мышцах'], ['Кашель', 'Одышка', 'Слабость'],\n",
        "                             ['Насморк', 'Потливость', 'Боль в горле'], ['Тошнота', 'Рвота', 'Диарея'],\n",
        "                             ['Лихорадка', 'Чихание', 'Заложенность носа'],\n",
        "                             ['Боль в горле', 'Сыпь', 'Потеря обоняния'],\n",
        "                             ['Головная боль', 'Тошнота', 'Потеря вкуса'],\n",
        "                               ['Кашель', 'Озноб', 'Потеря аппетита'],\n",
        " ['Сухость во рту', 'Головная боль', 'Зуд'], ['Боль в груди', 'Учащенное сердцебиение', 'Одышка'],\n",
        " ['Заложенность носа', 'Головокружение', 'Усталость'], ['Снижение веса', 'Тошнота', 'Боль в животе'],\n",
        " ['Слабость', 'Судороги', 'Головная боль'], ['Кашель', 'Лихорадка', 'Повышенная температура'],\n",
        " ['Одышка', 'Учащенное сердцебиение', 'Сухость во рту'],\n",
        " ['Головная боль', 'Зуд', 'Потливость'],\n",
        " ['Тошнота', 'Потеря аппетита', 'Боль в животе'],\n",
        " ['Диарея', 'Озноб', 'Усталость'],\n",
        " ['Кашель', 'Боль в груди', 'Потеря вкуса'], ['Лихорадка', 'Боль в горле', 'Одышка'],\n",
        "   ['Сухость во рту', 'Слабость', 'Зуд'], ['Головная боль', 'Снижение веса', 'Тошнота'],\n",
        "   ['Одышка', 'Боль в груди', 'Учащенное сердцебиение'], ['Заложенность носа', 'Головная боль', 'Сухость во рту'],\n",
        "   ['Головокружение', 'Потеря вкуса', 'Боль в мышцах'], ['Тошнота', 'Судороги', 'Слабость'], ['Боль в животе', 'Диарея', 'Озноб'],\n",
        "   ['Зуд', 'Покраснение глаз', 'Потливость'], ['Повышенная температура', 'Лихорадка', 'Головная боль'],\n",
        "   ['Сыпь', 'Потливость', 'Зуд'], ['Головокружение', 'Потеря аппетита', 'Снижение веса'],\n",
        "   ['Боль в горле', 'Судороги', 'Головная боль'], ['Заложенность носа', 'Сухость во рту', 'Головная боль'],\n",
        "   ['Озноб', 'Сыпь', 'Тошнота'], ['Потливость', 'Снижение веса', 'Покраснение глаз'],\n",
        "   ['Головокружение', 'Боль в мышцах', 'Заложенность носа']])\n"
      ],
      "metadata": {
        "id": "9j29x1KA_qsN"
      },
      "execution_count": 5,
      "outputs": []
    },
    {
      "cell_type": "code",
      "execution_count": 17,
      "metadata": {
        "colab": {
          "base_uri": "https://localhost:8080/"
        },
        "collapsed": true,
        "id": "78jmHiiN_ZSq",
        "outputId": "d8edf34d-c80f-453d-e849-6cb233d00cb6"
      },
      "outputs": [
        {
          "output_type": "stream",
          "name": "stdout",
          "text": [
            "Тестовая точность: 0.0\n"
          ]
        },
        {
          "output_type": "stream",
          "name": "stderr",
          "text": [
            "/usr/local/lib/python3.10/dist-packages/sklearn/neural_network/_multilayer_perceptron.py:691: ConvergenceWarning: Stochastic Optimizer: Maximum iterations (1000) reached and the optimization hasn't converged yet.\n",
            "  warnings.warn(\n"
          ]
        }
      ],
      "source": [
        "# Кодируем диагнозы\n",
        "label_encoder_diagnoses = LabelEncoder()\n",
        "encoded_diagnoses = label_encoder_diagnoses.fit_transform(diagnoses)\n",
        "\n",
        "# Кодируем симптомы\n",
        "# Создаем словарь для соответствия симптомов с номерами\n",
        "all_symptoms = set(symptom for sublist in symptoms for symptom in sublist)\n",
        "label_encoder_symptoms = LabelEncoder()\n",
        "label_encoder_symptoms.fit(list(all_symptoms))\n",
        "\n",
        "# Преобразуем симптомы в числовые значения\n",
        "encoded_symptoms = [label_encoder_symptoms.transform(s) for s in symptoms]\n",
        "\n",
        "# Для обучения модели необходимо создать матрицу признаков\n",
        "# Мы используем one-hot encoding для представления симптомов\n",
        "from sklearn.preprocessing import MultiLabelBinarizer\n",
        "\n",
        "mlb = MultiLabelBinarizer()\n",
        "X = mlb.fit_transform(symptoms)\n",
        "\n",
        "# Разделяем данные на обучающую и тестовую выборки\n",
        "X_train, X_test, y_train, y_test = train_test_split(X, encoded_diagnoses, test_size=0.2, random_state=42)\n",
        "\n",
        "# Создаем и обучаем модель\n",
        "model = MLPClassifier(hidden_layer_sizes=(10,), max_iter=1000, random_state=42)\n",
        "history = model.fit(X_train, y_train)\n",
        "\n",
        "# Оцениваем модель\n",
        "y_pred = model.predict(X_test)\n",
        "accuracy = accuracy_score(y_test, y_pred)\n",
        "\n",
        "print(f'Тестовая точность: {accuracy}')"
      ]
    },
    {
      "cell_type": "code",
      "source": [
        "# предиктус\n",
        "sample_symptoms = [['Рвота', 'Кашель', 'Боль в горле', 'Насморк']]\n",
        "encoded_sample_symptoms = mlb.transform(sample_symptoms)\n",
        "predicted_diagnosis = model.predict(encoded_sample_symptoms)\n",
        "predicted_diagnosis_label = label_encoder_diagnoses.inverse_transform(predicted_diagnosis)\n",
        "\n",
        "print(f'Предсказанный диагноз: {predicted_diagnosis_label[0]}')"
      ],
      "metadata": {
        "colab": {
          "base_uri": "https://localhost:8080/"
        },
        "id": "Jw7HtQ0W_e0t",
        "outputId": "4dc1fa4a-77a5-4e20-e50b-cbf713de60f9"
      },
      "execution_count": 26,
      "outputs": [
        {
          "output_type": "stream",
          "name": "stdout",
          "text": [
            "Предсказанный диагноз: Простуда\n"
          ]
        }
      ]
    },
    {
      "cell_type": "code",
      "source": [
        "index=np.where(diagnoses==\"Простуда\")[0][0]\n",
        "print(index)\n",
        "print(symptoms[index])"
      ],
      "metadata": {
        "colab": {
          "base_uri": "https://localhost:8080/"
        },
        "id": "R9XW6u74_bzN",
        "outputId": "520e714a-a036-4556-8977-5e3fc34f91f0"
      },
      "execution_count": 21,
      "outputs": [
        {
          "output_type": "stream",
          "name": "stdout",
          "text": [
            "1\n",
            "['Насморк' 'Кашель' 'Боль в горле']\n"
          ]
        }
      ]
    },
    {
      "cell_type": "code",
      "source": [
        "import matplotlib.pyplot as plt\n",
        "# Оцениваем модель\n",
        "y_train_pred = model.predict(X_train)\n",
        "y_test_pred = model.predict(X_test)\n",
        "\n",
        "# Вычисляем точность\n",
        "train_accuracy = accuracy_score(y_train, y_train_pred)\n",
        "test_accuracy = accuracy_score(y_test, y_test_pred)\n",
        "\n",
        "# Визуализация точности\n",
        "epochs = np.arange(1, 2)  # Поскольку мы не можем отслеживать каждую эпоху в MLPClassifier, просто создадим фиктивные данные\n",
        "train_accuracies = [train_accuracy]\n",
        "test_accuracies = [test_accuracy]\n",
        "\n",
        "plt.plot(epochs, train_accuracies, label='Train Accuracy')\n",
        "plt.plot(epochs, test_accuracies, label='Test Accuracy')\n",
        "plt.xlabel('Epoch')\n",
        "plt.ylabel('Accuracy')\n",
        "plt.title('Model Accuracy')\n",
        "plt.legend()\n",
        "plt.show()"
      ],
      "metadata": {
        "colab": {
          "base_uri": "https://localhost:8080/",
          "height": 472
        },
        "id": "vUJ6wpZ6EeVQ",
        "outputId": "a42e9e39-20eb-4d70-894e-7b1d953b2dd6"
      },
      "execution_count": 20,
      "outputs": [
        {
          "output_type": "display_data",
          "data": {
            "text/plain": [
              "<Figure size 640x480 with 1 Axes>"
            ],
            "image/png": "[encoded data removed]"
          },
          "metadata": {}
        }
      ]
    }
  ]
}